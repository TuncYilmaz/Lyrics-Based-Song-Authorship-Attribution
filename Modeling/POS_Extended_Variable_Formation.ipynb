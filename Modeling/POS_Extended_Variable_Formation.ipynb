{
 "cells": [
  {
   "cell_type": "markdown",
   "metadata": {},
   "source": [
    "### In the original POS lyrics dataset, lyrics are written in the simplified format: <br>\n",
    "[noun, verb, noun, padding, padding], <br>\n",
    "[noun, adj, padding, padding, padding], <br>\n",
    "[noun, det, adj, padding, padding], <br>\n",
    "[pronoun, verb, noun, padding, padding], <br>\n",
    "[padding, padding, padding, padding, padding], <br>\n",
    "[padding, padding, padding, padding, padding], <br>\n",
    "..., <br>\n",
    "### Each line had 20 tags, and each song had 100 lines\n",
    "### Now we convert the whole dataset, so that:\n",
    "- Each line will still have 20 tags, but the padding values will be substituted by repetitions of the initial actual POS tags\n",
    "- Each song will still have 100 lines, but the lines that consist only of padding will be substituted by the portion of the song that contains actual POS tags\n",
    "- Therefore the simplified POS song given above will transform into: <br>\n",
    "\n",
    "[noun, verb, noun, noun, verb], <br>\n",
    "[noun, adj, noun, adj, noun], <br>\n",
    "[noun, det, adj, noun, det], <br>\n",
    "[pronoun, verb, noun, pronoun, verb], <br> \n",
    "[noun, verb, noun, noun, verb], <br>\n",
    "[noun, adj, noun, adj, noun], <br>"
   ]
  },
  {
   "cell_type": "code",
   "execution_count": 1,
   "metadata": {
    "collapsed": true
   },
   "outputs": [],
   "source": [
    "# start by feeding your Pickle functions to call and save pickle variables later on\n",
    "\n",
    "import pickle\n",
    "def writePickle( Variable, fname):\n",
    "    filename = fname +\".pkl\"\n",
    "    f = open(\"pickle_vars/\"+filename, 'wb')\n",
    "    pickle.dump(Variable, f)\n",
    "    f.close()\n",
    "def readPickle(fname):\n",
    "    filename = \"pickle_vars/\"+fname +\".pkl\"\n",
    "    f = open(filename, 'rb')\n",
    "    obj = pickle.load(f)\n",
    "    f.close()\n",
    "    return obj\n",
    "def readPicklefromPast(fname):\n",
    "    filename = \"../pickle_vars/\"+fname +\".pkl\"\n",
    "    f = open(filename, 'rb')\n",
    "    obj = pickle.load(f)\n",
    "    f.close()\n",
    "    return obj"
   ]
  },
  {
   "cell_type": "code",
   "execution_count": null,
   "metadata": {
    "collapsed": true
   },
   "outputs": [],
   "source": [
    "import numpy as np\n",
    "import pandas as pd\n",
    "import random\n",
    "from collections import OrderedDict\n",
    "\n",
    "\n",
    "max_song = 100 # maximum song length\n",
    "max_line = 20 # maximum number of tokens in a line\n",
    "\n",
    "POS2id = readPickle(\"indexing/POS2id\")\n",
    "Artist2id = readPickle(\"indexing/Artist2id\")\n",
    "ID_to_POS = readPickle(\"final_IDs_to_POS_dict\")\n",
    "\n",
    "# import also the splitted datasets\n",
    "train_df = readPickle(\"train_df\")\n",
    "dev_df = readPickle(\"dev_df\")\n",
    "test_df = readPickle(\"test_df\")\n",
    "\n",
    "# here create a tag list of 72 elements, each of the 18 unique tags occuring 4 times\n",
    "tags = list(POS2id.keys())\n",
    "tags.remove(\"PADDING\")\n",
    "tags +=tags\n",
    "tags += tags\n",
    "\n",
    "# replicate the process for the POS tags\n",
    "def POS_generator(dataframe): # pick any of the dataframes; -test, -train or -dev\n",
    "    POS_dict = dataframe.to_dict('list')\n",
    "    sorted_POS_dict = OrderedDict(sorted(POS_dict.items(), key=lambda v: v, reverse=True))\n",
    "    artists = list()\n",
    "    songs = list()\n",
    "    for artist, song_ID_list in sorted_POS_dict.items():\n",
    "        for song_ID in song_ID_list:\n",
    "            POS_song = list()\n",
    "            artists.append(Artist2id[artist])\n",
    "            song = ID_to_POS[song_ID]\n",
    "\n",
    "            for line in song:\n",
    "                if len(line) == 0: # sometimes there are blank lines stuck in between songs\n",
    "                    continue\n",
    "                while len(line) < max_line:\n",
    "                    line += line\n",
    "                diff = len(line) - max_line\n",
    "                for i in range(diff):\n",
    "                    line.pop()\n",
    "            for line in song:\n",
    "                if len(line) == 0:\n",
    "                    continue\n",
    "                POS_line = list()\n",
    "                for tag in line:\n",
    "                    #print(tag)\n",
    "                    POS_line.append(POS2id[tag])\n",
    "                POS_song.append(POS_line)\n",
    "            if len(POS_song) < max_song: # either this block, to complete the song to 100 lines, each new line containing random POS tags\n",
    "                diff = max_song - len(POS_song)\n",
    "                for i in range(diff):\n",
    "                    random.shuffle(tags)\n",
    "                    random_indices = list()\n",
    "                    for tag in tags[0:20]:\n",
    "                        random_indices.append(POS2id[tag])\n",
    "                    POS_song.append(random_indices)\n",
    "            #while len(POS_song) < max_song: # or this block, to repeat the lines until a song of 100 lines is reached\n",
    "                #POS_song += POS_song\n",
    "                #diff = len(POS_song) - max_song\n",
    "                #for i in range(diff):\n",
    "                    #POS_song.pop()\n",
    "            songs.append(POS_song)\n",
    "    return songs, artists\n",
    "\n",
    "# using the function, form the datasets in python list format\n",
    "train_POS_extended_input_data, train_POS_extended_labels = POS_generator(train_df)\n",
    "print(\"Training data finished for POS, continuing with development data...\")\n",
    "dev_POS_extended_input_data, dev_POS_extended_labels = POS_generator(dev_df)\n",
    "print(\"Development data finished for POS, continuing with test data...\")\n",
    "test_POS_extended_input_data, test_POS_extended_labels = POS_generator(test_df)\n",
    "print(\"Test data finished for POS, continuing with pickle file recording...\")\n",
    "\n",
    "\n",
    "\n",
    "\n",
    "# in the end store these as pickle variables for later use\n",
    "writePickle(train_POS_extended_input_data, \"cnn_data_inputs/train_POS_extended_input_data\")\n",
    "writePickle(train_POS_extended_labels, \"cnn_data_inputs/train_POS_extended_labels\")\n",
    "writePickle(dev_POS_extended_input_data, \"cnn_data_inputs/dev_POS_extended_input_data\")\n",
    "writePickle(dev_POS_extended_labels, \"cnn_data_inputs/dev_POS_extended_labels\")\n",
    "writePickle(test_POS_extended_input_data, \"cnn_data_inputs/test_POS_extended_input_data\")\n",
    "writePickle(test_POS_extended_labels, \"cnn_data_inputs/test_POS_extended_labels\")\n",
    "\n",
    "\n",
    "\n",
    "\n",
    "print(\"An example of training POS input data is:\", train_POS_extended_input_data[0])\n",
    "print(\"The first training POS label is\", train_POS_extended_labels[0])\n"
   ]
  },
  {
   "cell_type": "code",
   "execution_count": null,
   "metadata": {
    "collapsed": true
   },
   "outputs": [],
   "source": [
    "# start with reading these dataset variables from pickle files\n",
    "train_POS_extended_input_data = readPickle(\"cnn_data_inputs/train_POS_extended_input_data\")\n",
    "train_POS_extended_labels = readPickle(\"cnn_data_inputs/train_POS_extended_labels\")\n",
    "dev_POS_extended_input_data = readPickle(\"cnn_data_inputs/dev_POS_extended_input_data\")\n",
    "dev_POS_extended_labels = readPickle(\"cnn_data_inputs/dev_POS_extended_labels\")\n",
    "test_POS_extended_input_data = readPickle(\"cnn_data_inputs/test_POS_extended_input_data\")\n",
    "test_POS_extended_labels = readPickle(\"cnn_data_inputs/test_POS_extended_labels\")\n"
   ]
  },
  {
   "cell_type": "code",
   "execution_count": null,
   "metadata": {
    "collapsed": true
   },
   "outputs": [],
   "source": [
    "# convert all of them to numpy arrays, so that they can be used in keras\n",
    "import numpy as np\n",
    "\n",
    "train_POS_extended_input_data = np.array(train_POS_extended_input_data)\n",
    "train_POS_extended_labels = np.array(train_POS_extended_labels)\n",
    "dev_POS_extended_input_data = np.array(dev_POS_extended_input_data)\n",
    "dev_POS_extended_labels = np.array(dev_POS_extended_labels)\n",
    "test_POS_extended_input_data = np.array(test_POS_extended_input_data)\n",
    "test_POS_extended_labels = np.array(test_POS_extended_labels)\n",
    "\n"
   ]
  },
  {
   "cell_type": "code",
   "execution_count": null,
   "metadata": {
    "collapsed": true
   },
   "outputs": [],
   "source": [
    "# see an example\n",
    "train_POS_extended_input_data[0]"
   ]
  },
  {
   "cell_type": "code",
   "execution_count": null,
   "metadata": {
    "collapsed": true
   },
   "outputs": [],
   "source": [
    "# for all the input data, we have to normalize the data points to an interval between 0 and 1, \n",
    "# and convert everything to floating numbers\n",
    "\n",
    "print(np.amax(train_POS_extended_input_data))\n",
    "print(np.amax(test_POS_extended_input_data))\n",
    "print(np.amax(dev_POS_extended_input_data))"
   ]
  },
  {
   "cell_type": "code",
   "execution_count": null,
   "metadata": {
    "collapsed": true
   },
   "outputs": [],
   "source": [
    "train_POS_extended_input_data = train_POS_extended_input_data.astype('float32') / np.amax(train_POS_extended_input_data)\n",
    "dev_POS_extended_input_data = dev_POS_extended_input_data.astype('float32') / np.amax(dev_POS_extended_input_data)\n",
    "test_POS_extended_input_data = test_POS_extended_input_data.astype('float32') / np.amax(test_POS_extended_input_data)\n"
   ]
  },
  {
   "cell_type": "code",
   "execution_count": null,
   "metadata": {
    "collapsed": true
   },
   "outputs": [],
   "source": [
    "# reshape the inputs into desired format\n",
    "\n",
    "X_train_POS_extended = train_POS_extended_input_data.reshape(len(train_POS_extended_input_data),max_song,max_line,1)\n",
    "X_dev_POS_extended = dev_POS_extended_input_data.reshape(len(dev_POS_extended_input_data),max_song,max_line,1)\n",
    "X_test_POS_extended = test_POS_extended_input_data.reshape(len(test_POS_extended_input_data),max_song,max_line,1)\n",
    "\n",
    "# an example\n",
    "print(X_train_POS_extended.shape)\n"
   ]
  },
  {
   "cell_type": "code",
   "execution_count": null,
   "metadata": {
    "collapsed": true
   },
   "outputs": [],
   "source": [
    "# then we need to turn the labels into categorical values\n",
    "\n",
    "from keras.utils import to_categorical\n",
    "\n",
    "y_train_POS_extended = to_categorical(train_POS_extended_labels)\n",
    "y_dev_POS_extended = to_categorical(dev_POS_extended_labels)\n",
    "y_test_POS_extended = to_categorical(test_POS_extended_labels)\n"
   ]
  },
  {
   "cell_type": "code",
   "execution_count": null,
   "metadata": {
    "collapsed": true
   },
   "outputs": [],
   "source": [
    "# save the variables\n",
    "writePickle(X_train_POS_extended,\"cnn_data_inputs/POS_Keras/X_train_POS_extended\")\n",
    "writePickle(X_dev_POS_extended,\"cnn_data_inputs/POS_Keras/X_dev_POS_extended\")\n",
    "writePickle(X_test_POS_extended,\"cnn_data_inputs/POS_Keras/X_test_POS_extended\")\n",
    "writePickle(y_train_POS_extended,\"cnn_data_inputs/POS_Keras/y_train_POS_extended\")\n",
    "writePickle(y_dev_POS_extended,\"cnn_data_inputs/POS_Keras/y_dev_POS_extended\")\n",
    "writePickle(y_test_POS_extended,\"cnn_data_inputs/POS_Keras/y_test_POS_extended\")\n"
   ]
  },
  {
   "cell_type": "markdown",
   "metadata": {},
   "source": [
    "### From the this moment on, we will use the Model scripts to construct our models, using the pickle input variables right above"
   ]
  }
 ],
 "metadata": {
  "kernelspec": {
   "display_name": "Python 3",
   "language": "python",
   "name": "python3"
  },
  "language_info": {
   "codemirror_mode": {
    "name": "ipython",
    "version": 3
   },
   "file_extension": ".py",
   "mimetype": "text/x-python",
   "name": "python",
   "nbconvert_exporter": "python",
   "pygments_lexer": "ipython3",
   "version": "3.6.8"
  }
 },
 "nbformat": 4,
 "nbformat_minor": 2
}
