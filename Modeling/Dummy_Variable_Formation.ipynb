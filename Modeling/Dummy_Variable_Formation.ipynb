{
 "cells": [
  {
   "cell_type": "code",
   "execution_count": null,
   "metadata": {
    "collapsed": true
   },
   "outputs": [],
   "source": [
    "import pickle\n",
    "def writePickle( Variable, fname):\n",
    "    filename = fname +\".pkl\"\n",
    "    f = open(\"pickle_vars/\"+filename, 'wb')\n",
    "    pickle.dump(Variable, f)\n",
    "    f.close()\n",
    "def readPickle(fname):\n",
    "    filename = \"pickle_vars/\"+fname +\".pkl\"\n",
    "    f = open(filename, 'rb')\n",
    "    obj = pickle.load(f)\n",
    "    f.close()\n",
    "    return obj"
   ]
  },
  {
   "cell_type": "code",
   "execution_count": null,
   "metadata": {
    "collapsed": true
   },
   "outputs": [],
   "source": [
    "# load splitted datasets\n",
    "train_df = readPickle(\"train_df\")\n",
    "dev_df = readPickle(\"dev_df\")\n",
    "test_df = readPickle(\"test_df\")"
   ]
  },
  {
   "cell_type": "code",
   "execution_count": null,
   "metadata": {
    "collapsed": true
   },
   "outputs": [],
   "source": [
    "import numpy as np\n",
    "import pandas as pd\n",
    "from collections import OrderedDict\n",
    "ID_to_POS = readPickle(\"final_IDs_to_POS_dict\")\n",
    "\n",
    "Artist2id = readPickle(\"indexing/Artist2id\")"
   ]
  },
  {
   "cell_type": "code",
   "execution_count": null,
   "metadata": {
    "collapsed": true
   },
   "outputs": [],
   "source": [
    "def dummy_gen(database):\n",
    "    dummy_train_dict = database.to_dict('list')\n",
    "    sorted_dummy_train_dict = OrderedDict(sorted(dummy_train_dict.items(), key=lambda v: v, reverse=True))\n",
    "    artists = list()\n",
    "    songs = list()\n",
    "    for artist, song_ID_list in sorted_dummy_train_dict.items():\n",
    "        for song_ID in song_ID_list:\n",
    "            dummy_song = list()\n",
    "            artists.append(Artist2id[artist])\n",
    "            song = ID_to_POS[song_ID]\n",
    "            while len(song) != 100:\n",
    "                song.append([\"PADDING\"])\n",
    "            for line in song:\n",
    "                while len(line) != 20:\n",
    "                    line.append(\"PADDING\")\n",
    "            for line in song:\n",
    "                #print(\"line is\",line)\n",
    "                POS_line = list()\n",
    "                for tag in line:\n",
    "                    if tag == \"PADDING\":\n",
    "                        POS_line.append(0) # if the value is padding, then add 0\n",
    "                    else:\n",
    "                        POS_line.append(0.5) # if the value is any of the POS tags, then add the dummy value 0.5\n",
    "                dummy_song.append(POS_line)\n",
    "            songs.append(dummy_song)\n",
    "    return songs, artists\n",
    "\n",
    "\n",
    "# using the function, form the datasets in python list format\n",
    "train_dummy_input_data, train_dummy_labels = dummy_gen(train_df)\n",
    "dev_dummy_input_data, dev_dummy_labels = dummy_gen(dev_df)\n",
    "test_dummy_input_data, test_dummy_labels = dummy_gen(test_df)\n",
    "\n",
    "\n",
    "# in the end store these as pickle variables for later use\n",
    "writePickle(train_dummy_input_data, \"cnn_data_inputs/train_dummy_input_data\")\n",
    "writePickle(train_dummy_labels, \"cnn_data_inputs/train_dummy_labels\")\n",
    "writePickle(dev_dummy_input_data, \"cnn_data_inputs/dev_dummy_input_data\")\n",
    "writePickle(dev_dummy_labels, \"cnn_data_inputs/dev_dummy_labels\")\n",
    "writePickle(test_dummy_input_data, \"cnn_data_inputs/test_dummy_input_data\")\n",
    "writePickle(test_dummy_labels, \"cnn_data_inputs/test_dummy_labels\")"
   ]
  },
  {
   "cell_type": "code",
   "execution_count": null,
   "metadata": {
    "collapsed": true
   },
   "outputs": [],
   "source": [
    "print(\"An example of training dummy input data is:\", train_dummy_input_data[0])\n",
    "print(\"The first training dummy label is\", train_dummy_labels[0])"
   ]
  },
  {
   "cell_type": "markdown",
   "metadata": {},
   "source": [
    "#### Convert the generated input formats to CNN compatible format"
   ]
  },
  {
   "cell_type": "code",
   "execution_count": null,
   "metadata": {
    "collapsed": true
   },
   "outputs": [],
   "source": [
    "import numpy as np\n",
    "\n",
    "train_dummy_input_data = np.array(train_dummy_input_data)\n",
    "train_dummy_labels = np.array(train_dummy_labels)\n",
    "dev_dummy_input_data = np.array(dev_dummy_input_data)\n",
    "dev_dummy_labels = np.array(dev_dummy_labels)\n",
    "test_dummy_input_data = np.array(test_dummy_input_data)\n",
    "test_dummy_labels = np.array(test_dummy_labels)\n",
    "\n",
    "train_dummy_input_data = train_dummy_input_data.astype('float32')\n",
    "dev_dummy_input_data = dev_dummy_input_data.astype('float32')\n",
    "test_dummy_input_data = test_dummy_input_data.astype('float32') "
   ]
  },
  {
   "cell_type": "code",
   "execution_count": null,
   "metadata": {
    "collapsed": true
   },
   "outputs": [],
   "source": [
    "X_train_dummy = train_dummy_input_data.reshape(len(train_dummy_input_data),100,20,1)\n",
    "X_dev_dummy = dev_dummy_input_data.reshape(len(dev_dummy_input_data),100,20,1)\n",
    "X_test_dummy = test_dummy_input_data.reshape(len(test_dummy_input_data),100,20,1)"
   ]
  },
  {
   "cell_type": "code",
   "execution_count": null,
   "metadata": {
    "collapsed": true
   },
   "outputs": [],
   "source": [
    "from keras.utils import to_categorical\n",
    "\n",
    "y_train_dummy = to_categorical(train_dummy_labels)\n",
    "y_dev_dummy = to_categorical(dev_dummy_labels)\n",
    "y_test_dummy = to_categorical(test_dummy_labels)"
   ]
  },
  {
   "cell_type": "code",
   "execution_count": null,
   "metadata": {
    "collapsed": true
   },
   "outputs": [],
   "source": [
    "# save the variables\n",
    "writePickle(X_train_dummy,\"cnn_data_inputs/dummy_Keras/X_train_dummy\")\n",
    "writePickle(X_dev_dummy,\"cnn_data_inputs/dummy_Keras/X_dev_dummy\")\n",
    "writePickle(X_test_dummy,\"cnn_data_inputs/dummy_Keras/X_test_dummy\")\n",
    "writePickle(y_train_dummy,\"cnn_data_inputs/dummy_Keras/y_train_dummy\")\n",
    "writePickle(y_dev_dummy,\"cnn_data_inputs/dummy_Keras/y_dev_dummy\")\n",
    "writePickle(y_test_dummy,\"cnn_data_inputs/dummy_Keras/y_test_dummy\")"
   ]
  }
 ],
 "metadata": {
  "kernelspec": {
   "display_name": "Python 3",
   "language": "python",
   "name": "python3"
  },
  "language_info": {
   "codemirror_mode": {
    "name": "ipython",
    "version": 3
   },
   "file_extension": ".py",
   "mimetype": "text/x-python",
   "name": "python",
   "nbconvert_exporter": "python",
   "pygments_lexer": "ipython3",
   "version": "3.6.8"
  }
 },
 "nbformat": 4,
 "nbformat_minor": 2
}
